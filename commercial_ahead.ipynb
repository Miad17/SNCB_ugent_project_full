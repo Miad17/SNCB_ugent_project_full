{
 "cells": [
  {
   "cell_type": "code",
   "execution_count": null,
   "metadata": {},
   "outputs": [],
   "source": [
    "import numpy as np\n",
    "import pandas as pd\n",
    "import matplotlib.pyplot as plt\n",
    "import matplotlib.gridspec as gridspec\n",
    "import seaborn as sns\n",
    "import os\n",
    "import holidays\n",
    "import datetime as dt\n",
    "import networkx as nx\n",
    "import matplotlib.pyplot as plt\n",
    "from datetime import datetime, timedelta\n",
    "import glob\n",
    "os.getcwd()\n",
    "pd.set_option('display.max_columns', 70)"
   ]
  },
  {
   "cell_type": "code",
   "execution_count": null,
   "metadata": {},
   "outputs": [],
   "source": [
    "#For commercial stop\n",
    "### PLEASE CHANGE THE FOLDER PATH\n",
    "non_comstop = pd.read_parquet(\"/Volumes/Tuyen Nguyen (Henry)/Downloads/tjj_allptcars\")\n",
    "non_comstop = non_comstop[(non_comstop[\"REF_REPERAGE_NO\"] > 0) & (non_comstop[\"COMMERCIAL_STOP_NATURE\"] != 0)] #Filter for all comercial stops\n",
    "hours_range = [5, 6, 7, 8, 9, 10, 15, 16, 17, 18, 19, 20]\n",
    "non_comstop = non_comstop[non_comstop['THR_ARR'].dt.hour.isin(hours_range)]\n",
    "non_comstop['TRAIN_DEPARTURE_DATE'] = pd.to_datetime(non_comstop['TRAIN_DEPARTURE_DATE'], format='%Y-%m-%d')\n",
    "non_comstop"
   ]
  },
  {
   "cell_type": "code",
   "execution_count": null,
   "metadata": {},
   "outputs": [],
   "source": [
    "PTCAR = pd.read_csv(\"./data/PTCAR.csv\",sep=\";\")\n",
    "non_comstop_ptcar = non_comstop.merge(PTCAR,on='REF_PTCAR_NO',how = 'left')\n",
    "non_comstop_ptcar = non_comstop_ptcar[non_comstop_ptcar['LONG_NAME_NL'].notna()]\n",
    "non_comstop_ptcar = non_comstop_ptcar[non_comstop_ptcar['THR_ARR'] != '1900-01-01 00:00:00'].reset_index()\n",
    "#Any trains arrive within HR_ARR_3min and HR_ARR are behind the the target train\n",
    "non_comstop_ptcar['THR_ARR_3min'] = non_comstop_ptcar['THR_ARR'] + timedelta(minutes=3)\n",
    "non_comstop_ptcar = non_comstop_ptcar[['REF_TOD_TRAIN_ID','THR_ARR','THR_ARR_3min','LONG_NAME_NL','TRAIN_DEPARTURE_DATE']]\n",
    "non_comstop_ptcar = non_comstop_ptcar.reset_index()\n",
    "non_comstop_ptcar = non_comstop_ptcar.drop(columns='index')\n",
    "non_comstop_ptcar"
   ]
  },
  {
   "cell_type": "code",
   "execution_count": null,
   "metadata": {},
   "outputs": [],
   "source": [
    "### PLEASE CHANGE THE FOLDER PATH\n",
    "folder_path = '/Volumes/Tuyen Nguyen (Henry)/Traindynamic'\n",
    "non_comstop_ptcar = non_comstop_ptcar.sort_values(by = 'REF_TOD_TRAIN_ID')\n",
    "unique_dates = non_comstop_ptcar['TRAIN_DEPARTURE_DATE'].unique()\n",
    "grouped_data = []\n",
    "\n",
    "for date in unique_dates:\n",
    "    data_date = non_comstop_ptcar[non_comstop_ptcar['TRAIN_DEPARTURE_DATE'] == date]\n",
    "    grouped = data_date.groupby(['LONG_NAME_NL'])\n",
    "    for name, group in grouped:\n",
    "        group = group.drop_duplicates(subset=['REF_TOD_TRAIN_ID','LONG_NAME_NL'],keep = 'last')\n",
    "        ref_ids = group['REF_TOD_TRAIN_ID'].values\n",
    "        mask = (ref_ids[:, np.newaxis] != ref_ids) & \\\n",
    "               (group['THR_ARR'].values[:, np.newaxis] >= group['THR_ARR'].values) & \\\n",
    "               (group['THR_ARR'].values[:, np.newaxis] <= group['THR_ARR_3min'].values)\n",
    "        ohe = pd.get_dummies(group['REF_TOD_TRAIN_ID'])\n",
    "        np.fill_diagonal(ohe.values, 0)\n",
    "        group_ohe = pd.concat([group, ohe], axis=1)\n",
    "        #Replace the mask with the corresponding train ID\n",
    "        group_ohe.iloc[:, 5:] = np.where(mask, 1, group_ohe.iloc[:, 5:])\n",
    "        \n",
    "        # Create the filename based on the day\n",
    "        day = np.datetime_as_string(date, unit='D')\n",
    "        name_with_underscores = name.replace(\" \", \"-\").replace('/', '').replace(':', '')\n",
    "        filename = f\"{day}_{name_with_underscores}.csv\"  # Using 'LONG_NAME_NL' and day in the filename\n",
    "        #Save the group dataframe as a CSV file in the specified folder\n",
    "        group_ohe.to_csv(os.path.join(folder_path, filename), index=False)"
   ]
  },
  {
   "cell_type": "code",
   "execution_count": null,
   "metadata": {},
   "outputs": [],
   "source": []
  }
 ],
 "metadata": {
  "language_info": {
   "name": "python"
  },
  "orig_nbformat": 4
 },
 "nbformat": 4,
 "nbformat_minor": 2
}
